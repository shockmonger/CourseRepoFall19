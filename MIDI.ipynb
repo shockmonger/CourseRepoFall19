{
 "cells": [
  {
   "cell_type": "markdown",
   "metadata": {},
   "source": [
    "# Pretty MIDI"
   ]
  },
  {
   "cell_type": "code",
   "execution_count": 3,
   "metadata": {},
   "outputs": [],
   "source": [
    "import pretty_midi"
   ]
  },
  {
   "cell_type": "code",
   "execution_count": 5,
   "metadata": {},
   "outputs": [],
   "source": [
    "midi_data = pretty_midi.PrettyMIDI('/home/tejaswik/Downloads/beetlejuice.mid')"
   ]
  },
  {
   "cell_type": "code",
   "execution_count": 7,
   "metadata": {},
   "outputs": [
    {
     "name": "stdout",
     "output_type": "stream",
     "text": [
      "--------------------------------------------------------------------------------\n",
      "FRENCH HORN\n",
      "# note events : 187\n",
      "# control change events : 284\n",
      "--------------------------------------------------------------------------------\n",
      "TRUMPET\n",
      "# note events : 231\n",
      "# control change events : 307\n",
      "--------------------------------------------------------------------------------\n",
      "TROMBONE\n",
      "# note events : 826\n",
      "# control change events : 1\n",
      "--------------------------------------------------------------------------------\n",
      "TUBA\n",
      "# note events : 309\n",
      "# control change events : 59\n",
      "--------------------------------------------------------------------------------\n",
      "PIANO\n",
      "# note events : 509\n",
      "# control change events : 63\n",
      "--------------------------------------------------------------------------------\n",
      "PERCUSSION\n",
      "# note events : 707\n",
      "# control change events : 71\n",
      "--------------------------------------------------------------------------------\n",
      "TIMPANI\n",
      "# note events : 66\n",
      "# control change events : 1\n",
      "--------------------------------------------------------------------------------\n",
      "STRINGS\n",
      "# note events : 696\n",
      "# control change events : 1\n",
      "--------------------------------------------------------------------------------\n",
      "CLARINET\n",
      "# note events : 216\n",
      "# control change events : 1\n",
      "--------------------------------------------------------------------------------\n",
      "FLUTE\n",
      "# note events : 38\n",
      "# control change events : 1\n"
     ]
    }
   ],
   "source": [
    "for instrument in midi_data.instruments:\n",
    "    print('-' * 80)\n",
    "    print(instrument.name.upper())\n",
    "    print('# note events : {}'.format(len(instrument.notes)))\n",
    "    print('# control change events : {}'.format(len(instrument.control_changes)))"
   ]
  },
  {
   "cell_type": "code",
   "execution_count": null,
   "metadata": {},
   "outputs": [],
   "source": []
  }
 ],
 "metadata": {
  "kernelspec": {
   "display_name": "Python 3",
   "language": "python",
   "name": "python3"
  },
  "language_info": {
   "codemirror_mode": {
    "name": "ipython",
    "version": 3
   },
   "file_extension": ".py",
   "mimetype": "text/x-python",
   "name": "python",
   "nbconvert_exporter": "python",
   "pygments_lexer": "ipython3",
   "version": "3.6.8"
  }
 },
 "nbformat": 4,
 "nbformat_minor": 2
}
