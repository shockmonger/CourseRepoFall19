{
 "cells": [
  {
   "cell_type": "markdown",
   "metadata": {},
   "source": [
    "# Structure"
   ]
  },
  {
   "cell_type": "markdown",
   "metadata": {},
   "source": [
    "### Following modules can be a good idea>"
   ]
  },
  {
   "cell_type": "markdown",
   "metadata": {},
   "source": [
    "##### 1. Intro to, Python, Numpy, Scipy, Scikit Learn \n",
    "##### 2. Librosa, Preprocessing, Feature selection, extraction, scaling\n",
    "[Librosa](Librosa.ipynb)\n",
    "[Preprocessing](Preprocessing.ipynb)\n",
    "##### 3. Perceptron, Regression \n",
    "[Perceptron](Perceptron.ipynb)\n",
    "\n",
    "##### 4. KNN, K Means Clustering, PCA\n",
    "##### 5. SVM, Neural Nets basic ideas, Backpropagation \n",
    "##### 6. Intro to Pytorch, Keras, \n",
    "##### 7. PyTorch RNN"
   ]
  },
  {
   "cell_type": "markdown",
   "metadata": {},
   "source": [
    "1. In the Librosa tutorial, we look at the audio processing library Librosa, and will also \n",
    "Link to [Librosa](Librosa.ipynb)"
   ]
  },
  {
   "cell_type": "code",
   "execution_count": null,
   "metadata": {},
   "outputs": [],
   "source": []
  }
 ],
 "metadata": {
  "kernelspec": {
   "display_name": "Python 3",
   "language": "python",
   "name": "python3"
  },
  "language_info": {
   "codemirror_mode": {
    "name": "ipython",
    "version": 3
   },
   "file_extension": ".py",
   "mimetype": "text/x-python",
   "name": "python",
   "nbconvert_exporter": "python",
   "pygments_lexer": "ipython3",
   "version": "3.6.8"
  }
 },
 "nbformat": 4,
 "nbformat_minor": 2
}
