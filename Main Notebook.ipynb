{
 "cells": [
  {
   "cell_type": "markdown",
   "metadata": {},
   "source": [
    "# Structure"
   ]
  },
  {
   "cell_type": "markdown",
   "metadata": {},
   "source": [
    "### Following modules can be a good idea>"
   ]
  },
  {
   "cell_type": "markdown",
   "metadata": {},
   "source": [
    "##### 1. Intro to, Python, Numpy, Scipy, Scikit Learn \n",
    "##### 2. Librosa, Preprocessing, Feature selection, extraction, scaling\n",
    "[Librosa](Librosa.ipynb)\n",
    "\n",
    "[Preprocessing](Preprocessing.ipynb)\n",
    "\n",
    "[Feature Extraction](featureExtraction.ipynb)\n",
    "##### 3. Perceptron, Regression \n",
    "[Perceptron](Perceptron.ipynb)\n",
    "##### 4. KNN, K Means Clustering, PCA\n",
    "[KNN](KNN.ipynb)\n",
    "##### 5. SVM, Neural Nets basic ideas, Backpropagation \n",
    "[SVM](SVM.ipynb)\n",
    "##### 6. Intro to Pytorch, Keras, \n",
    "[Torch](Torch.ipynb)\n",
    "##### 7. PyTorch CNN\n",
    "[TorchCNN](TorchCNN.ipynb)"
   ]
  },
  {
   "cell_type": "markdown",
   "metadata": {},
   "source": [
    "0. In the first notebook, you will find an introduction to python, numpy, pandas, scikit, matplotlib, and scipy - the key libraries we will use to process the data that "
   ]
  },
  {
   "cell_type": "markdown",
   "metadata": {},
   "source": [
    "1. In the Librosa tutorial, we look at the audio processing library Librosa, and will also \n",
    "Link to [Librosa](Librosa.ipynb)"
   ]
  },
  {
   "cell_type": "code",
   "execution_count": null,
   "metadata": {},
   "outputs": [],
   "source": []
  }
 ],
 "metadata": {
  "kernelspec": {
   "display_name": "Python 3",
   "language": "python",
   "name": "python3"
  },
  "language_info": {
   "codemirror_mode": {
    "name": "ipython",
    "version": 3
   },
   "file_extension": ".py",
   "mimetype": "text/x-python",
   "name": "python",
   "nbconvert_exporter": "python",
   "pygments_lexer": "ipython3",
   "version": "3.6.8"
  }
 },
 "nbformat": 4,
 "nbformat_minor": 2
}
